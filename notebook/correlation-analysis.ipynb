{
 "cells": [
  {
   "cell_type": "code",
   "execution_count": null,
   "metadata": {},
   "outputs": [],
   "source": [
    "import pandas as pd\n",
    "import seaborn as sn\n",
    "import matplotlib.pyplot as plt\n",
    "\n",
    "specifiy filepath and name here\n"
    "filepath = r'data/Sampledata.csv'\n"
    "#extract the data from csv (pd.read_excel(r'') for excel)\n",
    "parameterdatas = pd.read_csv(filepath)\n",
    "print(parameterdatas.head())\n",
    "\n",
    "#create the correlation matrix\n",
    "correlation_matrix = parameterdatas.corr()\n",
    "print(correlation_matrix)\n",
    "\n",
    "#create array for each correlation category\n",
    "high_correlation_pairs = []\n",
    "moderate_correlation_pairs= []\n",
    "low_correlation_pairs= []"
   ]
  },
  {
   "cell_type": "code",
   "execution_count": null,
   "metadata": {},
   "outputs": [],
   "source": [
    "#categorizing the calculated correlations, adjust as needed\n",
    "for i in range(len(correlation_matrix.columns)):\n",
    "    for j in range(i + 1, len(correlation_matrix.columns)):\n",
    "        correlation_val = correlation_matrix.iloc[i,j]\n",
    "\n",
    "        #for strong correlation (0.7 and above)\n",
    "        if abs(correlation_matrix.iloc[i, j]) > 0.7:\n",
    "            pair = (correlation_matrix.columns[i], correlation_matrix.columns[j])\n",
    "            high_correlation_pairs.append((pair, correlation_val))\n",
    "            \n",
    "        #for moderate correlation (0.5 to 0.69)\n",
    "        elif 0.5 < abs(correlation_val) < 0.7:\n",
    "            pair = (correlation_matrix.columns[i], correlation_matrix.columns[j])\n",
    "            moderate_correlation_pairs.append((pair, correlation_val))\n",
    "\n",
    "        #for low correlations (0.3 to 0.5)\n",
    "        elif 0.3 < abs(correlation_val) <= 0.5:\n",
    "            pair = (correlation_matrix.columns[i], correlation_matrix.columns[j])\n",
    "            low_correlation_pairs.append((pair, correlation_val))\n",
    "\n",
    "#sorting by descendng order the correlation pairs within each category\n",
    "high_correlation_pairs.sort(key=lambda x: abs(x[1]), reverse=True)\n",
    "moderate_correlation_pairs.sort(key=lambda x: abs(x[1]), reverse=True)\n",
    "low_correlation_pairs.sort(key=lambda x: abs(x[1]), reverse=True)\n",
    "\n",
    "#to print categorization of correlation\n",
    "#print strong correlation pairs\n",
    "print(\"\\nStrong correlation pairs (correlation above 0.7):\")\n",
    "for pair, correlation_val in high_correlation_pairs:\n",
    "    print(f\" Pair: {pair}, Correlation: {correlation_val}\")\n",
    "\n",
    "#print moderate correlation pairs\n",
    "print(\"\\nModerate correlation pairs (correlation between 0.5 and 0.69):\")\n",
    "for pair, correlation_val in moderate_correlation_pairs:\n",
    "    print(f\" Pair: {pair}, Correlation: {correlation_val}\")\n",
    "\n",
    "#print low correlation pairs\n",
    "print(\"\\nLow correlation pairs (correlation between 0.3 and 0.49):\")\n",
    "for pair, correlation_val in low_correlation_pairs:\n",
    "    print(f\" Pair: {pair}, Correlation: {correlation_val}\")"
   ]
  },
  {
   "cell_type": "code",
   "execution_count": null,
   "metadata": {},
   "outputs": [],
   "source": [
    "#loop through the high correlation pairs and create scatter plots\n",
    "#for strong correlations\n",
    "#create a figure and axis object\n",
    "fig, axes = plt.subplots(nrows=len(high_correlation_pairs), ncols=1, figsize=(8, 6 * len(high_correlation_pairs)))\n",
    "#set a common title for all subplots\n",
    "fig.suptitle('Scatter Plots with Regression Lines', fontsize=16)\n",
    "#loop through the high correlation pairs and create scatter plots\n",
    "for i, (pair, correlation_val) in enumerate(high_correlation_pairs):\n",
    "    #scatter plot for each pair\n",
    "    sn.scatterplot(x=pair[0], y=pair[1], data=parameterdatas, ax=axes[i], color='blue', alpha=0.5)\n",
    "    sn.regplot(x=pair[0], y=pair[1], data=parameterdatas, ax=axes[i], scatter=False, color='red')\n",
    "\n",
    "    axes[i].set_xlabel(pair[0])\n",
    "    axes[i].set_ylabel(pair[1])\n",
    "    axes[i].set_title(f\"Raw Data Scatter Plot: {pair[0]} vs {pair[1]} (r = {correlation_val})\")\n",
    "    axes[i].grid(True)\n",
    "\n",
    "plt.tight_layout(rect=[0, 0.03, 1, 0.98])\n",
    "plt.show()"
   ]
  },
  {
   "cell_type": "code",
   "execution_count": null,
   "metadata": {},
   "outputs": [],
   "source": [
    "#loop through the moderate correlation pairs and create scatter plots\n",
    "#for strong correlations\n",
    "#create a figure and axis object\n",
    "fig, axes = plt.subplots(nrows=len(moderate_correlation_pairs), ncols=1, figsize=(8, 6 * len(moderate_correlation_pairs)))\n",
    "#set a common title for all subplots\n",
    "fig.suptitle('Moderate Correlation Pairs Scatter Plots with Regression Lines', fontsize=16)\n",
    "#loop through the high correlation pairs and create scatter plots\n",
    "for i, (pair, correlation_val) in enumerate(moderate_correlation_pairs):\n",
    "    # Scatter plot for each pair\n",
    "    sn.scatterplot(x=pair[0], y=pair[1], data=parameterdatas, ax=axes[i], color='blue', alpha=0.5)\n",
    "    sn.regplot(x=pair[0], y=pair[1], data=parameterdatas, ax=axes[i], scatter=False, color='red')\n",
    "\n",
    "    axes[i].set_xlabel(pair[0])\n",
    "    axes[i].set_ylabel(pair[1])\n",
    "    axes[i].set_title(f\"Raw Data Scatter Plot: {pair[0]} vs {pair[1]} (r = {correlation_val})\")\n",
    "    axes[i].grid(True)\n",
    "\n",
    "plt.tight_layout(rect=[0, 0.03, 1, 0.98])\n",
    "plt.show()"
   ]
  },
  {
   "cell_type": "code",
   "execution_count": null,
   "metadata": {},
   "outputs": [],
   "source": [
    "#visualize correlation matrix using heat map\n",
    "\n",
    "#adjust size here\n",
    "plt.figure(figsize=(10, 8))\n",
    "heatmap = sn.heatmap(correlation_matrix, annot=True, cmap='BrBG')\n",
    "heatmap.set_title('Variables Correlation Heatmap', fontdict={'fontsize':16}, pad=12);\n",
    "\n",
    "plt.show()"
   ]
  }
 ],
 "metadata": {
  "kernelspec": {
   "display_name": "Python 3",
   "language": "python",
   "name": "python3"
  },
  "language_info": {
   "codemirror_mode": {
    "name": "ipython",
    "version": 3
   },
   "file_extension": ".py",
   "mimetype": "text/x-python",
   "name": "python",
   "nbconvert_exporter": "python",
   "pygments_lexer": "ipython3",
   "version": "3.11.2"
  }
 },
 "nbformat": 4,
 "nbformat_minor": 2
}
